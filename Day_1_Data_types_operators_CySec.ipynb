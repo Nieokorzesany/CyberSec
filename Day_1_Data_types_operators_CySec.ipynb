{
  "nbformat": 4,
  "nbformat_minor": 0,
  "metadata": {
    "kernelspec": {
      "display_name": "Python 3",
      "language": "python",
      "name": "python3"
    },
    "language_info": {
      "codemirror_mode": {
        "name": "ipython",
        "version": 3
      },
      "file_extension": ".py",
      "mimetype": "text/x-python",
      "name": "python",
      "nbconvert_exporter": "python",
      "pygments_lexer": "ipython3",
      "version": "3.7.3"
    },
    "colab": {
      "name": "Kopia notatnika Day_1_Data_types_operators_CySec.ipynb",
      "provenance": []
    }
  },
  "cells": [
    {
      "cell_type": "markdown",
      "metadata": {
        "id": "iI6lis27JGJ0"
      },
      "source": [
        "<h1>Data Types and Operators</h1>\n",
        "<h4>Welcome to this lesson on Data Types and Operators! You'll learn about:</h4> \n",
        "\n",
        "- <h4>Data Types:</h4> Strings, Integers, Floats, Booleans, Lists, Tuples, Sets, Dictionaries\n",
        "\n",
        "- <h4>Operators:</h4> Arithmetic, Assignment, Comparison, Logical, Membership, Identity\n",
        "\n",
        "\n",
        "- Built-In Functions, Compound Data Structures, Type Conversion\n"
      ]
    },
    {
      "cell_type": "markdown",
      "metadata": {
        "id": "GWsHDZa9JGJ2"
      },
      "source": [
        "<h1>Strings:<h1>"
      ]
    },
    {
      "cell_type": "code",
      "metadata": {
        "id": "ZhPMi6LoJGJ3"
      },
      "source": [
        "#String: Enclosed textual data within quotes\n",
        "var_1 = 'Hello World!'\n",
        "var_2 = \"Youtube is Google's video streaming platform\""
      ],
      "execution_count": null,
      "outputs": []
    },
    {
      "cell_type": "code",
      "metadata": {
        "id": "evx9dtspJGJ3",
        "outputId": "65a4850a-fef2-4701-bfc9-20fbb05cb02b"
      },
      "source": [
        "print(var_1)\n",
        "#Prints the value of variable"
      ],
      "execution_count": null,
      "outputs": [
        {
          "output_type": "stream",
          "text": [
            "Hello World!\n"
          ],
          "name": "stdout"
        }
      ]
    },
    {
      "cell_type": "code",
      "metadata": {
        "id": "M29MHoYGJGJ4",
        "outputId": "03a67f8f-f412-473b-c624-fa6be75263fb"
      },
      "source": [
        "print(len(var_1))\n",
        "#Prints the length of variable"
      ],
      "execution_count": null,
      "outputs": [
        {
          "output_type": "stream",
          "text": [
            "12\n"
          ],
          "name": "stdout"
        }
      ]
    },
    {
      "cell_type": "code",
      "metadata": {
        "id": "rVCjgBX1JGJ5",
        "outputId": "ab984809-3916-4ea0-cbe3-76c700acee3f"
      },
      "source": [
        "#In python, Indexing starts from 0,1,2,3\n",
        "print(var_1[10])\n",
        "#prints character at index 10\n"
      ],
      "execution_count": null,
      "outputs": [
        {
          "output_type": "stream",
          "text": [
            "d\n"
          ],
          "name": "stdout"
        }
      ]
    },
    {
      "cell_type": "code",
      "metadata": {
        "id": "aGuPqs4lJGJ6",
        "outputId": "3a4851eb-da13-46d4-daba-25569ddf6c63"
      },
      "source": [
        "print(var_1[0:5])\n",
        "#prints character index 0-4 but 5 isn't included"
      ],
      "execution_count": null,
      "outputs": [
        {
          "output_type": "stream",
          "text": [
            "Hello\n"
          ],
          "name": "stdout"
        }
      ]
    },
    {
      "cell_type": "code",
      "metadata": {
        "id": "YHGNz0iLJGJ6",
        "outputId": "c913c31a-be47-45ac-d4fb-30ed07518582"
      },
      "source": [
        "print(var_1[6:])\n",
        "#prints character index 6-last index "
      ],
      "execution_count": null,
      "outputs": [
        {
          "output_type": "stream",
          "text": [
            "World!\n"
          ],
          "name": "stdout"
        }
      ]
    },
    {
      "cell_type": "markdown",
      "metadata": {
        "id": "t4d-rlODJGJ6"
      },
      "source": [
        "###### The above operations using square [] brackets is called slicing"
      ]
    },
    {
      "cell_type": "code",
      "metadata": {
        "id": "MOFSk2I8JGJ7",
        "outputId": "7c799eae-3607-4382-f516-194e5fa4db06"
      },
      "source": [
        "print(var_1.lower()) #Prints strings in lower case"
      ],
      "execution_count": null,
      "outputs": [
        {
          "output_type": "stream",
          "text": [
            "hello world!\n"
          ],
          "name": "stdout"
        }
      ]
    },
    {
      "cell_type": "code",
      "metadata": {
        "id": "GR_7oKR_JGJ7",
        "outputId": "da1c0e9c-8403-483c-f008-5c92ee36016c"
      },
      "source": [
        "print(var_1.upper()) #Prints strings in upper case"
      ],
      "execution_count": null,
      "outputs": [
        {
          "output_type": "stream",
          "text": [
            "HELLO WORLD!\n"
          ],
          "name": "stdout"
        }
      ]
    },
    {
      "cell_type": "code",
      "metadata": {
        "id": "kUNkEIcqJGJ8",
        "outputId": "9445491b-3310-47f4-b8b2-2f5084c75042"
      },
      "source": [
        "greeting = 'hello'\n",
        "name = 'John'\n",
        "\n",
        "message_1 = greeting+', '+name+'. Welcome!' #String concatenation\n",
        "message_2 = '{}, {}. Welcome!'.format(greeting,name)\n",
        "\n",
        "print(message_1)\n",
        "print(message_2)"
      ],
      "execution_count": null,
      "outputs": [
        {
          "output_type": "stream",
          "text": [
            "hello, Welcome!\n",
            "hello, Welcome!\n"
          ],
          "name": "stdout"
        }
      ]
    },
    {
      "cell_type": "markdown",
      "metadata": {
        "id": "n5l_PziYJGJ8"
      },
      "source": [
        "<br><br>\n",
        "\n",
        "## Variable Naming Conventions:**\n",
        "\n",
        "There are some rules we need to follow while giving a name for a Python variable.\n",
        "\n",
        "- **Rule-1**: You should start variable name with an alphabet or **underscore(_)** character.\n",
        "- **Rule-2:** A variable name can only contain **A-Z,a-z,0-9** and **underscore(_)**.\n",
        "- **Rule-3:** You cannot start the variable name with a **number**.\n",
        "- **Rule-4:** You cannot use special characters with the variable name such as such as **$,%,#,&,@.-,^** etc.\n",
        "- **Rule-5**: Variable names are **case sensitive**. For example str and Str are two different variables.\n",
        "- **Rule-6:** Do not use reserve keyword as a variable name for example keywords like **class, for, def, del, is, else,** **try, from,** etc. more examples are given below and as we go through the course we will come across many more. Creating names that are descriptive of the values often will help you avoid using any of these words."
      ]
    },
    {
      "cell_type": "code",
      "metadata": {
        "id": "BTxUW4TiJGJ8"
      },
      "source": [
        "#Allowed variable names\n",
        "\n",
        "x=2\n",
        "y=\"Hello\"\n",
        "mypython=\"PythonGuides\"\n",
        "my_python=\"PythonGuides\"\n",
        "_my_python=\"PythonGuides\"\n",
        "_mypython=\"PythonGuides\"\n",
        "MYPYTHON=\"PythonGuides\"\n",
        "myPython=\"PythonGuides\"\n",
        "myPython7=\"PythonGuides\"\n"
      ],
      "execution_count": null,
      "outputs": []
    },
    {
      "cell_type": "code",
      "metadata": {
        "id": "HmhBv7epJGJ9",
        "outputId": "ff2493f6-2fd7-419c-f59f-57354af665d7"
      },
      "source": [
        "#Variable name not Allowed\n",
        "\n",
        "7mypython=\"PythonGuides\"\n",
        "-mypython=\"PythonGuides\"\n",
        "myPy@thon=\"PythonGuides\"\n",
        "my Python=\"PythonGuides\"\n",
        "for=\"PythonGuides\"\n",
        "\n",
        "#It shows invalid syntax. \n",
        "#It will execute one by one and will show the error."
      ],
      "execution_count": null,
      "outputs": [
        {
          "output_type": "error",
          "ename": "SyntaxError",
          "evalue": "invalid syntax (<ipython-input-23-23d4199b4438>, line 3)",
          "traceback": [
            "\u001b[1;36m  File \u001b[1;32m\"<ipython-input-23-23d4199b4438>\"\u001b[1;36m, line \u001b[1;32m3\u001b[0m\n\u001b[1;33m    7mypython=\"PythonGuides\"\u001b[0m\n\u001b[1;37m            ^\u001b[0m\n\u001b[1;31mSyntaxError\u001b[0m\u001b[1;31m:\u001b[0m invalid syntax\n"
          ]
        }
      ]
    },
    {
      "cell_type": "markdown",
      "metadata": {
        "id": "A8KrLUu-JGJ9"
      },
      "source": [
        "# Integers and Floats:\n",
        "##### Working with numeric data"
      ]
    },
    {
      "cell_type": "markdown",
      "metadata": {
        "id": "mEVMzDlVJGJ-"
      },
      "source": [
        "### Arithmetic Operators:\n",
        "#### Addition:           7+5\n",
        "#### Subtraction:     7-5\n",
        "#### Multiplication:  7*5\n",
        "#### Division:           7/5 \n",
        "#### Floor Division: 7//5 -> Drops decimal value\n",
        "#### Exponent:         7**5\n",
        "#### Modulus:           7%5 "
      ]
    },
    {
      "cell_type": "code",
      "metadata": {
        "id": "45QCbt0KJGJ-",
        "outputId": "9249cf5e-af51-4167-81d4-181c67ac9ec1"
      },
      "source": [
        "abs(-11) #Returns absolute value of integer data"
      ],
      "execution_count": null,
      "outputs": [
        {
          "output_type": "execute_result",
          "data": {
            "text/plain": [
              "11"
            ]
          },
          "metadata": {
            "tags": []
          },
          "execution_count": 25
        }
      ]
    },
    {
      "cell_type": "code",
      "metadata": {
        "id": "FLYrJ0zHJGJ_",
        "outputId": "a4e30765-f1f2-4b71-9e30-bd14d9ce4213"
      },
      "source": [
        "num = 1\n",
        "num = num+1\n",
        "num += 1\n",
        "print(num)"
      ],
      "execution_count": null,
      "outputs": [
        {
          "output_type": "stream",
          "text": [
            "3\n"
          ],
          "name": "stdout"
        }
      ]
    },
    {
      "cell_type": "code",
      "metadata": {
        "id": "po9PMJS1JGJ_",
        "outputId": "d78f0e1e-0442-4dc2-bfff-a4b4f9035dda"
      },
      "source": [
        "round(8.63) # round to nearest integer"
      ],
      "execution_count": null,
      "outputs": [
        {
          "output_type": "execute_result",
          "data": {
            "text/plain": [
              "9"
            ]
          },
          "metadata": {
            "tags": []
          },
          "execution_count": 28
        }
      ]
    },
    {
      "cell_type": "code",
      "metadata": {
        "id": "6IT-24-BJGJ_",
        "outputId": "ec2f0ece-c359-4a45-c340-b64334661c0c"
      },
      "source": [
        "round(8.63,1) #rounds till first decimal point"
      ],
      "execution_count": null,
      "outputs": [
        {
          "output_type": "execute_result",
          "data": {
            "text/plain": [
              "8.6"
            ]
          },
          "metadata": {
            "tags": []
          },
          "execution_count": 29
        }
      ]
    },
    {
      "cell_type": "markdown",
      "metadata": {
        "id": "Zfq442AlJGJ_"
      },
      "source": [
        "### Comparison Operators:\n",
        "#### Equal:                   7==5\n",
        "#### Not Equal:            7!=5\n",
        "#### Greater than:       7>5\n",
        "#### Less than:            7<5 \n",
        "#### Greater or Equal: 7>=5\n",
        "#### Less or Equal:      7<=5"
      ]
    },
    {
      "cell_type": "code",
      "metadata": {
        "id": "_9jdtDAfJGKA",
        "outputId": "ef8a7359-765c-42d0-d294-beaccb9e63dd"
      },
      "source": [
        "num_1 = 7\n",
        "num_2 = 5\n",
        "print(num_1 == num_2)"
      ],
      "execution_count": null,
      "outputs": [
        {
          "output_type": "stream",
          "text": [
            "False\n"
          ],
          "name": "stdout"
        }
      ]
    },
    {
      "cell_type": "code",
      "metadata": {
        "id": "VM9qtDwhJGKA"
      },
      "source": [
        ""
      ],
      "execution_count": null,
      "outputs": []
    }
  ]
}
